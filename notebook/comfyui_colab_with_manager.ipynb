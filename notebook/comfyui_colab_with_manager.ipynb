{
 "cells": [
  {
   "cell_type": "markdown",
   "metadata": {
    "id": "aaaaaaaaaa"
   },
   "source": [
    "Git clone the repo and install the requirements. (ignore the pip errors about protobuf)"
   ]
  },
  {
   "cell_type": "code",
   "execution_count": null,
   "metadata": {
    "colab": {
     "base_uri": "https://localhost:8080/"
    },
    "executionInfo": {
     "elapsed": 64130,
     "status": "ok",
     "timestamp": 1743561080719,
     "user": {
      "displayName": "Seki",
      "userId": "16383359155079608054"
     },
     "user_tz": -480
    },
    "id": "bbbbbbbbbb",
    "outputId": "54d46fc6-c4a6-43e9-e1e5-7fee2e08cbcc"
   },
   "outputs": [],
   "source": [
    "# #@title Environment Setup\n",
    "\n",
    "from pathlib import Path\n",
    "\n",
    "OPTIONS = {}\n",
    "\n",
    "USE_GOOGLE_DRIVE = False  #@param {type:\"boolean\"}\n",
    "UPDATE_COMFY_UI = True  #@param {type:\"boolean\"}\n",
    "USE_COMFYUI_MANAGER = True  #@param {type:\"boolean\"}\n",
    "INSTALL_CUSTOM_NODES_DEPENDENCIES = True  #@param {type:\"boolean\"}\n",
    "OPTIONS['USE_GOOGLE_DRIVE'] = USE_GOOGLE_DRIVE\n",
    "OPTIONS['UPDATE_COMFY_UI'] = UPDATE_COMFY_UI\n",
    "OPTIONS['USE_COMFYUI_MANAGER'] = USE_COMFYUI_MANAGER\n",
    "OPTIONS['INSTALL_CUSTOM_NODES_DEPENDENCIES'] = INSTALL_CUSTOM_NODES_DEPENDENCIES\n",
    "\n",
    "current_dir = !pwd\n",
    "WORKSPACE = f\"{current_dir[0]}/ComfyUI\"\n",
    "\n",
    "if OPTIONS['USE_GOOGLE_DRIVE']:\n",
    "    !echo \"Mounting Google Drive...\"\n",
    "    %cd /\n",
    "\n",
    "    from google.colab import drive\n",
    "    drive.mount('/content/drive')\n",
    "\n",
    "    WORKSPACE = \"/content/drive/MyDrive/ComfyUI\"\n",
    "    %cd /content/drive/MyDrive\n",
    "\n",
    "![ ! -d $WORKSPACE ] && echo -= Initial setup ComfyUI =- && git clone https://github.com/comfyanonymous/ComfyUI\n",
    "%cd $WORKSPACE\n",
    "\n",
    "if OPTIONS['UPDATE_COMFY_UI']:\n",
    "  !echo -= Updating ComfyUI =-\n",
    "\n",
    "  # Correction of the issue of permissions being deleted on Google Drive.\n",
    "  ![ -f \".ci/nightly/update_windows/update_comfyui_and_python_dependencies.bat\" ] && chmod 755 .ci/nightly/update_windows/update_comfyui_and_python_dependencies.bat\n",
    "  ![ -f \".ci/nightly/windows_base_files/run_nvidia_gpu.bat\" ] && chmod 755 .ci/nightly/windows_base_files/run_nvidia_gpu.bat\n",
    "  ![ -f \".ci/update_windows/update_comfyui_and_python_dependencies.bat\" ] && chmod 755 .ci/update_windows/update_comfyui_and_python_dependencies.bat\n",
    "  ![ -f \".ci/update_windows_cu118/update_comfyui_and_python_dependencies.bat\" ] && chmod 755 .ci/update_windows_cu118/update_comfyui_and_python_dependencies.bat\n",
    "  ![ -f \".ci/update_windows/update.py\" ] && chmod 755 .ci/update_windows/update.py\n",
    "  ![ -f \".ci/update_windows/update_comfyui.bat\" ] && chmod 755 .ci/update_windows/update_comfyui.bat\n",
    "  ![ -f \".ci/update_windows/README_VERY_IMPORTANT.txt\" ] && chmod 755 .ci/update_windows/README_VERY_IMPORTANT.txt\n",
    "  ![ -f \".ci/update_windows/run_cpu.bat\" ] && chmod 755 .ci/update_windows/run_cpu.bat\n",
    "  ![ -f \".ci/update_windows/run_nvidia_gpu.bat\" ] && chmod 755 .ci/update_windows/run_nvidia_gpu.bat\n",
    "\n",
    "  !git pull\n",
    "\n",
    "!echo -= Install dependencies =-\n",
    "!pip3 install accelerate\n",
    "!pip3 install einops transformers>=4.28.1 safetensors>=0.4.2 aiohttp pyyaml Pillow scipy tqdm psutil tokenizers>=0.13.3\n",
    "!pip3 install torch torchvision torchaudio --index-url https://download.pytorch.org/whl/cu121\n",
    "!pip3 install torchsde\n",
    "!pip3 install kornia>=0.7.1 spandrel soundfile sentencepiece\n",
    "\n",
    "if OPTIONS['USE_COMFYUI_MANAGER']:\n",
    "  %cd custom_nodes\n",
    "\n",
    "  # Correction of the issue of permissions being deleted on Google Drive.\n",
    "  ![ -f \"ComfyUI-Manager/check.sh\" ] && chmod 755 ComfyUI-Manager/check.sh\n",
    "  ![ -f \"ComfyUI-Manager/scan.sh\" ] && chmod 755 ComfyUI-Manager/scan.sh\n",
    "  ![ -f \"ComfyUI-Manager/node_db/dev/scan.sh\" ] && chmod 755 ComfyUI-Manager/node_db/dev/scan.sh\n",
    "  ![ -f \"ComfyUI-Manager/node_db/tutorial/scan.sh\" ] && chmod 755 ComfyUI-Manager/node_db/tutorial/scan.sh\n",
    "  ![ -f \"ComfyUI-Manager/scripts/install-comfyui-venv-linux.sh\" ] && chmod 755 ComfyUI-Manager/scripts/install-comfyui-venv-linux.sh\n",
    "  ![ -f \"ComfyUI-Manager/scripts/install-comfyui-venv-win.bat\" ] && chmod 755 ComfyUI-Manager/scripts/install-comfyui-venv-win.bat\n",
    "\n",
    "  ![ ! -d ComfyUI-Manager ] && echo -= Initial setup ComfyUI-Manager =- && git clone https://github.com/ltdrdata/ComfyUI-Manager\n",
    "  %cd ComfyUI-Manager\n",
    "  !git pull\n",
    "\n",
    "%cd $WORKSPACE\n",
    "\n",
    "if OPTIONS['INSTALL_CUSTOM_NODES_DEPENDENCIES']:\n",
    "  !echo -= Install custom nodes dependencies =-\n",
    "  !pip install GitPython\n",
    "  !python custom_nodes/ComfyUI-Manager/cm-cli.py restore-dependencies\n"
   ]
  },
  {
   "cell_type": "code",
   "execution_count": null,
   "metadata": {},
   "outputs": [],
   "source": [
    "# SDXL\n",
    "## RunDiffusion/Juggernaut-XL-v9\n",
    "!wget -c \"https://huggingface.co/RunDiffusion/Juggernaut-XL-v9/resolve/main/Juggernaut-XL_v9_RunDiffusionPhoto_v2.safetensors\" -P models/checkpoints\n",
    "\n",
    "# ## black-forest-labs/FLUX.1-schnell\n",
    "!wget -c \"https://huggingface.co/black-forest-labs/FLUX.1-schnell/resolve/main/flux1-schnell.safetensors\" -P models/checkpoints\n",
    "\n",
    "# Lora\n",
    "## joachimsallstrom/aether-aqua-lora-for-sdxl\n",
    "!wget -c \"https://huggingface.co/joachimsallstrom/aether-aqua-lora-for-sdxl/resolve/main/Aether_Aqua_v1_SDXL_LoRA.safetensors\" -P models/loras\n",
    "\n",
    "## joachimsallstrom/aether-fire-lora-for-sdxl\n",
    "!wget -c \"https://huggingface.co/joachimsallstrom/aether-fire-lora-for-sdxl/resolve/main/Aether_Fire_v1_SDXL_LoRA.safetensors\" -P models/loras\n",
    "\n",
    "## controlnet\n",
    "!wget -c \"https://huggingface.co/xinsir/controlnet-union-sdxl-1.0/resolve/main/diffusion_pytorch_model_promax.safetensors\" -P models/controlnet"
   ]
  },
  {
   "cell_type": "markdown",
   "metadata": {
    "id": "cccccccccc"
   },
   "source": [
    "Download some models/checkpoints/vae or custom comfyui nodes (uncomment the commands for the ones you want)"
   ]
  },
  {
   "cell_type": "markdown",
   "metadata": {
    "id": "kkkkkkkkkkkkkkk"
   },
   "source": [
    "### Run ComfyUI with cloudflared (Recommended Way)\n",
    "\n",
    "\n"
   ]
  },
  {
   "cell_type": "code",
   "execution_count": null,
   "metadata": {
    "colab": {
     "base_uri": "https://localhost:8080/"
    },
    "executionInfo": {
     "elapsed": 830455,
     "status": "ok",
     "timestamp": 1743566299827,
     "user": {
      "displayName": "Seki",
      "userId": "16383359155079608054"
     },
     "user_tz": -480
    },
    "id": "jjjjjjjjjjjjjj",
    "outputId": "2d12a290-7eae-456a-8000-d5f70447cdf8"
   },
   "outputs": [],
   "source": [
    "!wget -P ~ https://github.com/cloudflare/cloudflared/releases/latest/download/cloudflared-linux-amd64.deb\n",
    "!dpkg -i ~/cloudflared-linux-amd64.deb\n",
    "\n",
    "import subprocess\n",
    "import threading\n",
    "import time\n",
    "import socket\n",
    "import urllib.request\n",
    "\n",
    "def iframe_thread(port):\n",
    "  while True:\n",
    "      time.sleep(0.5)\n",
    "      sock = socket.socket(socket.AF_INET, socket.SOCK_STREAM)\n",
    "      result = sock.connect_ex(('127.0.0.1', port))\n",
    "      if result == 0:\n",
    "        break\n",
    "      sock.close()\n",
    "  print(\"\\nComfyUI finished loading, trying to launch cloudflared (if it gets stuck here cloudflared is having issues)\\n\")\n",
    "\n",
    "  p = subprocess.Popen([\"cloudflared\", \"tunnel\", \"--url\", \"http://127.0.0.1:{}\".format(port)], stdout=subprocess.PIPE, stderr=subprocess.PIPE)\n",
    "  for line in p.stderr:\n",
    "    l = line.decode()\n",
    "    if \"trycloudflare.com \" in l:\n",
    "      print(\"This is the URL to access ComfyUI:\", l[l.find(\"http\"):], end='')\n",
    "    #print(l, end='')\n",
    "\n",
    "\n",
    "threading.Thread(target=iframe_thread, daemon=True, args=(8188,)).start()\n",
    "\n",
    "!python main.py --dont-print-server"
   ]
  },
  {
   "cell_type": "markdown",
   "metadata": {
    "id": "kkkkkkkkkkkkkk"
   },
   "source": [
    "### Run ComfyUI with localtunnel\n",
    "\n",
    "\n"
   ]
  },
  {
   "cell_type": "code",
   "execution_count": null,
   "metadata": {
    "colab": {
     "base_uri": "https://localhost:8080/"
    },
    "executionInfo": {
     "elapsed": 3371573,
     "status": "ok",
     "timestamp": 1743565465775,
     "user": {
      "displayName": "Seki",
      "userId": "16383359155079608054"
     },
     "user_tz": -480
    },
    "id": "jjjjjjjjjjjjj",
    "outputId": "8bd30c05-898c-472d-8562-18960558d1ef"
   },
   "outputs": [],
   "source": [
    "!npm install -g localtunnel\n",
    "\n",
    "import subprocess\n",
    "import threading\n",
    "import time\n",
    "import socket\n",
    "import urllib.request\n",
    "\n",
    "def iframe_thread(port):\n",
    "  while True:\n",
    "      time.sleep(0.5)\n",
    "      sock = socket.socket(socket.AF_INET, socket.SOCK_STREAM)\n",
    "      result = sock.connect_ex(('127.0.0.1', port))\n",
    "      if result == 0:\n",
    "        break\n",
    "      sock.close()\n",
    "  print(\"\\nComfyUI finished loading, trying to launch localtunnel (if it gets stuck here localtunnel is having issues)\\n\")\n",
    "\n",
    "  print(\"The password/enpoint ip for localtunnel is:\", urllib.request.urlopen('https://ipv4.icanhazip.com').read().decode('utf8').strip(\"\\n\"))\n",
    "  p = subprocess.Popen([\"lt\", \"--port\", \"{}\".format(port)], stdout=subprocess.PIPE)\n",
    "  for line in p.stdout:\n",
    "    print(line.decode(), end='')\n",
    "\n",
    "\n",
    "threading.Thread(target=iframe_thread, daemon=True, args=(8188,)).start()\n",
    "\n",
    "!python main.py --dont-print-server"
   ]
  },
  {
   "cell_type": "markdown",
   "metadata": {
    "id": "gggggggggg"
   },
   "source": [
    "### Run ComfyUI with colab iframe (use only in case the previous way with localtunnel doesn't work)\n",
    "\n",
    "You should see the ui appear in an iframe. If you get a 403 error, it's your firefox settings or an extension that's messing things up.\n",
    "\n",
    "If you want to open it in another window use the link.\n",
    "\n",
    "Note that some UI features like live image previews won't work because the colab iframe blocks websockets."
   ]
  },
  {
   "cell_type": "code",
   "execution_count": null,
   "metadata": {
    "id": "hhhhhhhhhh"
   },
   "outputs": [],
   "source": [
    "import threading\n",
    "import time\n",
    "import socket\n",
    "def iframe_thread(port):\n",
    "  while True:\n",
    "      time.sleep(0.5)\n",
    "      sock = socket.socket(socket.AF_INET, socket.SOCK_STREAM)\n",
    "      result = sock.connect_ex(('127.0.0.1', port))\n",
    "      if result == 0:\n",
    "        break\n",
    "      sock.close()\n",
    "  from google.colab import output\n",
    "  output.serve_kernel_port_as_iframe(port, height=1024)\n",
    "  print(\"to open it in a window you can open this link here:\")\n",
    "  output.serve_kernel_port_as_window(port)\n",
    "\n",
    "threading.Thread(target=iframe_thread, daemon=True, args=(8188,)).start()\n",
    "\n",
    "!python main.py --dont-print-server"
   ]
  }
 ],
 "metadata": {
  "accelerator": "GPU",
  "colab": {
   "provenance": [
    {
     "file_id": "https://github.com/ltdrdata/ComfyUI-Manager/blob/main/notebooks/comfyui_colab_with_manager.ipynb",
     "timestamp": 1743410957969
    }
   ]
  },
  "gpuClass": "standard",
  "kernelspec": {
   "display_name": "Python 3",
   "name": "python3"
  },
  "language_info": {
   "name": "python"
  }
 },
 "nbformat": 4,
 "nbformat_minor": 0
}
